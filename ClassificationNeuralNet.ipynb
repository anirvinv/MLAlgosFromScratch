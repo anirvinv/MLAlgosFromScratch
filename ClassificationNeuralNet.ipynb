{
  "nbformat": 4,
  "nbformat_minor": 0,
  "metadata": {
    "colab": {
      "name": "ClassificationNeuralNet.ipynb",
      "provenance": [],
      "collapsed_sections": [],
      "authorship_tag": "ABX9TyPeXmhHwRKcyeR8r229AeRd",
      "include_colab_link": true
    },
    "kernelspec": {
      "name": "python3",
      "display_name": "Python 3"
    },
    "language_info": {
      "name": "python"
    }
  },
  "cells": [
    {
      "cell_type": "markdown",
      "metadata": {
        "id": "view-in-github",
        "colab_type": "text"
      },
      "source": [
        "<a href=\"https://colab.research.google.com/github/anirvinv/MLAlgosFromScratch/blob/master/ClassificationNeuralNet.ipynb\" target=\"_parent\"><img src=\"https://colab.research.google.com/assets/colab-badge.svg\" alt=\"Open In Colab\"/></a>"
      ]
    },
    {
      "cell_type": "code",
      "metadata": {
        "id": "jurkn6coSsqS"
      },
      "source": [
        "import numpy as np\n",
        "import matplotlib.pyplot as plt"
      ],
      "execution_count": null,
      "outputs": []
    },
    {
      "cell_type": "code",
      "metadata": {
        "id": "aHym0gCqS_U-"
      },
      "source": [
        "import torch\n",
        "from torchvision import datasets, transforms"
      ],
      "execution_count": null,
      "outputs": []
    },
    {
      "cell_type": "code",
      "metadata": {
        "id": "sjotcbFrTU3L"
      },
      "source": [
        "train = datasets.MNIST(download=True, root=\".\", train=True, transform=transforms.ToTensor())"
      ],
      "execution_count": null,
      "outputs": []
    },
    {
      "cell_type": "code",
      "metadata": {
        "id": "uLDOEnMuWuGs"
      },
      "source": [
        "test = datasets.MNIST(download=True, root=\".\", train=False, transform=transforms.ToTensor())"
      ],
      "execution_count": null,
      "outputs": []
    },
    {
      "cell_type": "code",
      "metadata": {
        "id": "rEGVRWqoXkGo"
      },
      "source": [
        "train_data = train.data.view(-1, 28, 28)\n",
        "test_data = test.data.view(-1, 28, 28)"
      ],
      "execution_count": null,
      "outputs": []
    },
    {
      "cell_type": "code",
      "metadata": {
        "id": "sa5LcNULlMtS"
      },
      "source": [
        "train_y = np.array(train.targets)\n",
        "test_y = np.array(test.targets)"
      ],
      "execution_count": null,
      "outputs": []
    },
    {
      "cell_type": "code",
      "metadata": {
        "id": "jXKe17_5Xyz8"
      },
      "source": [
        "train_X = np.array(train_data)\n",
        "test_X = np.array(test_data)"
      ],
      "execution_count": null,
      "outputs": []
    },
    {
      "cell_type": "code",
      "metadata": {
        "id": "a36Oj_-KkYMU"
      },
      "source": [
        "def one_hot_encode(y):\n",
        "  \"\"\"Returns a one_hot array representation of the data passed where every column is a label\"\"\"\n",
        "  y_copy = y.T\n",
        "  zeros = np.zeros((10, y_copy.shape[1])).T\n",
        "  for index, i in enumerate(y_copy[0]):\n",
        "    zeros[index][i] = 1\n",
        "  return zeros.T"
      ],
      "execution_count": null,
      "outputs": []
    },
    {
      "cell_type": "code",
      "metadata": {
        "id": "Vywe9WVBeAQ2"
      },
      "source": [
        "# test = np.array([[1], [2], [3]])\n",
        "# one_hot_encode(test)"
      ],
      "execution_count": null,
      "outputs": []
    },
    {
      "cell_type": "code",
      "metadata": {
        "id": "1-XInj16fL5x"
      },
      "source": [
        "y_one_hot = one_hot_encode(np.array([train_y]))"
      ],
      "execution_count": null,
      "outputs": []
    },
    {
      "cell_type": "code",
      "metadata": {
        "id": "h-cJ6DoOQ4fA"
      },
      "source": [
        "# activation functions\n",
        "\n",
        "def reLU(x):\n",
        "  return np.maximum(0, x)\n",
        "\n",
        "def d_reLU(x):\n",
        "  return x > 0\n",
        "\n",
        "def sigmoid(x):\n",
        "  return 1/(1 + np.exp(-x))\n",
        "\n",
        "def d_sigmoid(x):\n",
        "  return sigmoid(x) * (1 - sigmoid(x))\n",
        "\n",
        "def softmax(x):\n",
        "  return np.exp(x)/np.sum(np.exp(x), axis=0)"
      ],
      "execution_count": null,
      "outputs": []
    },
    {
      "cell_type": "code",
      "metadata": {
        "id": "4yuQ8drjW-QI"
      },
      "source": [
        "def cost_function(y, y_hat):\n",
        "  return np.sum(-y * np.log(y_hat))\n",
        "  # return np.sum(np.argmax(y_hat, axis=0) == y)\n"
      ],
      "execution_count": null,
      "outputs": []
    },
    {
      "cell_type": "code",
      "metadata": {
        "colab": {
          "base_uri": "https://localhost:8080/"
        },
        "id": "1VeiRU73qv9G",
        "outputId": "877c00e6-3e86-4250-e685-331245c0f4ac"
      },
      "source": [
        "train_X[0:4].shape"
      ],
      "execution_count": null,
      "outputs": [
        {
          "output_type": "execute_result",
          "data": {
            "text/plain": [
              "(4, 28, 28)"
            ]
          },
          "metadata": {
            "tags": []
          },
          "execution_count": 17
        }
      ]
    },
    {
      "cell_type": "code",
      "metadata": {
        "id": "tCo14g-EUWKo"
      },
      "source": [
        "X = train_X[0:200].reshape(-1, 784)\n",
        "y = np.array([train_y[0:200]]).T\n",
        "\n",
        "X = np.array(X).T/255\n",
        "y = one_hot_encode(y)\n",
        "\n",
        "W1 = np.random.rand(120, 784)/10000\n",
        "B1 = np.random.rand(120, 1)/10000\n",
        "\n",
        "W2 = np.random.rand(10, 120)/10000\n",
        "B2 = np.random.rand(10, 1)/10000\n",
        "\n",
        "# W3 = np.random.rand(10, 10)/10000\n",
        "# B3 = np.random.rand(10, 1)/10000\n",
        "\n",
        "# Z1 = W1.dot(X) + B1\n",
        "# A1 = reLU(Z1)\n",
        "\n",
        "# Z2 = W2.dot(A1) + B2\n",
        "# A2 = reLU(Z2)\n",
        "\n",
        "# Z3 = W3.dot(A2) + B3\n",
        "# A3 = softmax(Z3)"
      ],
      "execution_count": null,
      "outputs": []
    },
    {
      "cell_type": "code",
      "metadata": {
        "id": "-1dI4E_g-TJe"
      },
      "source": [
        "def cost_function(y, y_hat):\n",
        "  return np.sum(-y * np.log(y_hat))\n",
        "  # return np.sum(np.argmax(y_hat, axis=0) == y)\n"
      ],
      "execution_count": null,
      "outputs": []
    },
    {
      "cell_type": "code",
      "metadata": {
        "id": "WkRO8NbsqnOV"
      },
      "source": [
        "def predict(X):\n",
        "  data = X.reshape(-1, 28*28)\n",
        "  Z1 = W1.dot(data.T) + B1\n",
        "  A1 = reLU(Z1)\n",
        "\n",
        "  Z2 = W2.dot(A1) + B2\n",
        "  A2 = reLU(Z2)\n",
        "\n",
        "  # Z3 = W3.dot(A2) + B3\n",
        "  # A3 = softmax(Z3)\n",
        "\n",
        "  return np.argmax(A2, axis=0)\n"
      ],
      "execution_count": null,
      "outputs": []
    },
    {
      "cell_type": "code",
      "metadata": {
        "id": "3mMQ1PPoUYRP",
        "colab": {
          "base_uri": "https://localhost:8080/"
        },
        "outputId": "bb9c3762-1670-4a9f-c928-65103c83ca06"
      },
      "source": [
        "lr = 0.000155\n",
        "for i in range(15000):\n",
        "  Z1 = W1.dot(X) + B1\n",
        "  A1 = reLU(Z1)\n",
        "\n",
        "  Z2 = W2.dot(A1) + B2\n",
        "  A2 = softmax(Z2)\n",
        "\n",
        "  dZ2 = A2 - y\n",
        "\n",
        "  dW2 = dZ2.dot(A1.T)\n",
        "  dB2 = np.sum(dZ2, axis=1, keepdims=True)\n",
        "  \n",
        "  dZ1 = W2.T.dot(dZ2) * d_reLU(Z1)\n",
        "\n",
        "  dW1 = dZ1.dot(X.T)\n",
        "  dB1 = np.sum(dZ1, axis=1, keepdims=True)\n",
        "\n",
        "  W1 -= dW1 * lr\n",
        "  B1 -= dB1 * lr\n",
        "\n",
        "  W2 -= dW2 * lr\n",
        "  B2 -= dB2 * lr\n",
        "\n",
        "  if i%550 == 0:\n",
        "    print(cost_function(y, A2), f\"|| accuracy: {100 * np.sum(predict(test_X) == test_y)/len(test_y)}%\")"
      ],
      "execution_count": null,
      "outputs": [
        {
          "output_type": "stream",
          "text": [
            "460.5173797747799 || accuracy: 19.6%\n",
            "350.9152066171537 || accuracy: 22.02%\n",
            "77.85839564500614 || accuracy: 71.39%\n",
            "13.31682083862441 || accuracy: 76.8%\n",
            "5.3665691595825855 || accuracy: 77.21%\n",
            "3.063090462799413 || accuracy: 77.31%\n",
            "2.0654831928963215 || accuracy: 77.41%\n",
            "1.52919764281213 || accuracy: 77.47%\n",
            "1.200854795048038 || accuracy: 77.5%\n",
            "0.9815806912287859 || accuracy: 77.52%\n",
            "0.8258162323268493 || accuracy: 77.49%\n",
            "0.7100361779467367 || accuracy: 77.45%\n",
            "0.6210148990560834 || accuracy: 77.47%\n",
            "0.5506305882269147 || accuracy: 77.43%\n",
            "0.49370294456918606 || accuracy: 77.51%\n",
            "0.44680012080066867 || accuracy: 77.51%\n",
            "0.40753870602719733 || accuracy: 77.47%\n",
            "0.37422863261648054 || accuracy: 77.45%\n",
            "0.3456424325278485 || accuracy: 77.49%\n",
            "0.3208663503657538 || accuracy: 77.49%\n",
            "0.2992025875523271 || accuracy: 77.5%\n",
            "0.2801168484170478 || accuracy: 77.48%\n",
            "0.2631839766840925 || accuracy: 77.46%\n",
            "0.24806566912670958 || accuracy: 77.47%\n",
            "0.23449149333599473 || accuracy: 77.47%\n",
            "0.22224198798248138 || accuracy: 77.46%\n",
            "0.2111356614097789 || accuracy: 77.48%\n",
            "0.2010239150007534 || accuracy: 77.51%\n"
          ],
          "name": "stdout"
        }
      ]
    },
    {
      "cell_type": "code",
      "metadata": {
        "colab": {
          "base_uri": "https://localhost:8080/",
          "height": 282
        },
        "id": "48tt-9IHm7sk",
        "outputId": "09879714-ebe6-4bce-ccee-dc16607f17f5"
      },
      "source": [
        "img = W1[0].reshape(28, 28)\n",
        "plt.imshow(img)"
      ],
      "execution_count": null,
      "outputs": [
        {
          "output_type": "execute_result",
          "data": {
            "text/plain": [
              "<matplotlib.image.AxesImage at 0x7f222a889350>"
            ]
          },
          "metadata": {
            "tags": []
          },
          "execution_count": 45
        },
        {
          "output_type": "display_data",
          "data": {
            "image/png": "[encoded data removed]",
            "text/plain": [
              "<Figure size 432x288 with 1 Axes>"
            ]
          },
          "metadata": {
            "tags": [],
            "needs_background": "light"
          }
        }
      ]
    },
    {
      "cell_type": "code",
      "metadata": {
        "colab": {
          "base_uri": "https://localhost:8080/",
          "height": 333
        },
        "id": "OlcjcL2-z2nv",
        "outputId": "8c692548-2bb4-4934-be77-06f5d22cefe6"
      },
      "source": [
        "index = 2205\n",
        "print(\"prediction:\",predict(train_X[index])[0], \"label: \", train_y[index])\n",
        "print(\"\\n\")\n",
        "plt.imshow(train_X[index].reshape(28,28))"
      ],
      "execution_count": null,
      "outputs": [
        {
          "output_type": "stream",
          "text": [
            "prediction: 2 label:  2\n",
            "\n",
            "\n"
          ],
          "name": "stdout"
        },
        {
          "output_type": "execute_result",
          "data": {
            "text/plain": [
              "<matplotlib.image.AxesImage at 0x7f222a86f350>"
            ]
          },
          "metadata": {
            "tags": []
          },
          "execution_count": 46
        },
        {
          "output_type": "display_data",
          "data": {
            "image/png": "[encoded data removed]",
            "text/plain": [
              "<Figure size 432x288 with 1 Axes>"
            ]
          },
          "metadata": {
            "tags": [],
            "needs_background": "light"
          }
        }
      ]
    },
    {
      "cell_type": "code",
      "metadata": {
        "id": "crVajGQozXwh"
      },
      "source": [
        "###Triple layer \n",
        "\n",
        "# lr = 0.000001\n",
        "# for i in range(10000):\n",
        "#   Z1 = W1.dot(X) + B1\n",
        "#   A1 = reLU(Z1)\n",
        "\n",
        "#   Z2 = W2.dot(A1) + B2\n",
        "#   A2 = reLU(Z2)\n",
        "\n",
        "#   Z3 = W3.dot(A2) + B3\n",
        "#   A3 = softmax(Z3)\n",
        "\n",
        "#   dZ3 = A3 - y\n",
        "\n",
        "#   dW3 = dZ3.dot(A2.T)\n",
        "#   dB3 = np.sum(dZ3, axis=1, keepdims=True)\n",
        "  \n",
        "#   dZ2 = W3.T.dot(dZ3) * d_reLU(Z2)\n",
        "\n",
        "#   dW2 = dZ2.dot(A1.T)\n",
        "#   dB2 = np.sum(dZ2, axis=1, keepdims=True)\n",
        "\n",
        "#   dZ1 = W2.T.dot(dZ2) * d_reLU(Z1)\n",
        "\n",
        "#   dW1 = dZ1.dot(X.T)\n",
        "#   dB1 = np.sum(dZ1, axis=1, keepdims=True)\n",
        "\n",
        "#   W1 -= dW1 * lr\n",
        "#   B1 -= dB1 * lr\n",
        "\n",
        "#   W2 -= dW2 * lr\n",
        "#   B2 -= dB2 * lr\n",
        "\n",
        "#   W3 -= dW3 * lr\n",
        "#   B3 -= dB3 * lr\n",
        "\n",
        "#   if i%500 == 0:\n",
        "#     print(cost_function(y, A3))"
      ],
      "execution_count": 22,
      "outputs": []
    },
    {
      "cell_type": "code",
      "metadata": {
        "id": "P5fzSqfC_BsO"
      },
      "source": [
        ""
      ],
      "execution_count": null,
      "outputs": []
    }
  ]
}